{
 "cells": [
  {
   "cell_type": "code",
   "execution_count": null,
   "metadata": {},
   "outputs": [],
   "source": [
    "\"\"\"import nltk\n",
    "nltk.download()\"\"\"\n",
    "from nltk.sentiment.vader import SentimentIntensityAnalyzer\n",
    "import pandas as pd"
   ]
  },
  {
   "cell_type": "code",
   "execution_count": null,
   "metadata": {},
   "outputs": [],
   "source": [
    "sid = SentimentIntensityAnalyzer()"
   ]
  },
  {
   "cell_type": "code",
   "execution_count": null,
   "metadata": {},
   "outputs": [],
   "source": [
    "def analisis_de_sentimientos(df):\n",
    "    df[\"Review_Text\"] = df[\"Review_Text\"].astype(str)\n",
    "    df[\"sentimientos\"] = df[\"Review_Text\"].apply(lambda i: sid.polarity_scores(i)['compound'])\n",
    "    df.to_csv(\"prueba_mensaje_con_sentimientos.csv\")"
   ]
  },
  {
   "cell_type": "markdown",
   "metadata": {},
   "source": [
    "\"\"\"Se crea una columna llamada 'sentimiento', el resultado va a ser (=) a lo que haya\n",
    "en la columna 'mensaje' aplicale una función (lambda) utilizar el analizador de \n",
    "sentimientos (sid.) y encuentra la polaridad (polarity) de cada mensaje\"\"\"\n",
    "\n",
    "\"\"\".apply(): Ejecuta una función por cada valor de una columna, dando como resultado\n",
    "una nueva columna. En este caso se ejecutará una función por cada\n",
    "valor de la columna \"mensaje\" y todos los resultados se guardarán\n",
    "en una nueva columna \"sentimiento\".\"\"\""
   ]
  },
  {
   "cell_type": "markdown",
   "metadata": {},
   "source": [
    "#Función para guardar un Dataframe como .csv"
   ]
  },
  {
   "cell_type": "code",
   "execution_count": null,
   "metadata": {},
   "outputs": [],
   "source": [
    "df = pd.read_csv('Prueba_Disneylandreviews.csv')\n",
    "analisis_de_sentimientos(df)"
   ]
  },
  {
   "cell_type": "markdown",
   "metadata": {},
   "source": [
    "\"\"\"Los resultados van a ser:\n",
    "- Un diccionario y las claves neg (negativo), neu (neutral), pos (positivo) y compound.\n",
    "Va a arrojar que porcentaje tiene de negatividad, neutralidad o positivismo.\n",
    "La clave compound va a arrojar que porcentaje final tiene de sentimiento el mensaje.\n",
    "Va de -1 a 1 siendo -1 negativo, 0 neutral y 1 positivo\"\"\""
   ]
  }
 ],
 "metadata": {
  "interpreter": {
   "hash": "e6e4848e0fb705e7cf07a9ca737530324d6b04f5bf769dea7d18bdbf336afef8"
  },
  "kernelspec": {
   "display_name": "Python 3.9.7 64-bit",
   "name": "python3"
  },
  "language_info": {
   "codemirror_mode": {
    "name": "ipython",
    "version": 3
   },
   "file_extension": ".py",
   "mimetype": "text/x-python",
   "name": "python",
   "nbconvert_exporter": "python",
   "pygments_lexer": "ipython3",
   "version": "3.9.7"
  },
  "orig_nbformat": 4
 },
 "nbformat": 4,
 "nbformat_minor": 2
}
